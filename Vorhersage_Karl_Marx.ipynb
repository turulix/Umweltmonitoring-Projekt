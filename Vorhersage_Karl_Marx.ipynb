{
 "cells": [
  {
   "cell_type": "markdown",
   "id": "93c227a3-cd52-4305-9a32-6f8dcd4c6c79",
   "metadata": {},
   "source": [
    "# Imports"
   ]
  },
  {
   "cell_type": "code",
   "execution_count": 1,
   "id": "0f1a4ccf-7a4d-4960-bb02-56289e3a271f",
   "metadata": {},
   "outputs": [],
   "source": [
    "import requests\n",
    "from sqlalchemy import create_engine, Table, Column, Float, String, MetaData, DateTime, insert, select, TIMESTAMP, text\n",
    "import pandas as pd\n",
    "import pickle\n",
    "import time\n",
    "from os import getenv\n",
    "%load_ext dotenv\n",
    "%dotenv"
   ]
  },
  {
   "cell_type": "markdown",
   "id": "dbe1864a-2e5a-484d-86b8-31c5a561243c",
   "metadata": {},
   "source": [
    "# Modell laden"
   ]
  },
  {
   "cell_type": "code",
   "execution_count": 2,
   "id": "83220382-118e-4013-805b-cef5ee52742d",
   "metadata": {},
   "outputs": [],
   "source": [
    "# Pfad zur gespeicherten Modell-Datei\n",
    "model_filename = 'karl_marx_arima_312_model.pkl'\n",
    "\n",
    "# Laden des Modells\n",
    "with open(model_filename, 'rb') as file:\n",
    "    loaded_model = pickle.load(file)"
   ]
  },
  {
   "cell_type": "markdown",
   "id": "8ecf9b61-bb62-470f-82bc-50646eb652b6",
   "metadata": {},
   "source": [
    "# Verbindung zu remote postgresql"
   ]
  },
  {
   "cell_type": "code",
   "execution_count": 3,
   "id": "72d2c4d2-b375-416f-b7ee-571be64de6c0",
   "metadata": {},
   "outputs": [],
   "source": [
    "username = getenv('DB_USER')\n",
    "password = getenv('DB_PASSWORD')\n",
    "host = getenv('DB_HOST')\n",
    "port = getenv('DB_PORT')\n",
    "database = getenv('DB_NAME')\n",
    "\n",
    "#remote postgreSQL Server\n",
    "engine = create_engine(f'postgresql://{username}:{password}@{host}:{port}/{database}')"
   ]
  },
  {
   "cell_type": "code",
   "execution_count": 4,
   "id": "41e89a75-8d67-47b4-beb2-0ebc5888d60e",
   "metadata": {},
   "outputs": [],
   "source": [
    "def upsert_prediction(timestamp, sensor_id, box_id, value):\n",
    "    sql = text(\"\"\"\n",
    "        INSERT INTO predictions (TimeStamp, Sensor_ID, box_id, value)\n",
    "        VALUES (:timestamp, :sensor_id, :box_id, :value)\n",
    "        ON CONFLICT (TimeStamp, Sensor_ID, box_id) DO UPDATE SET\n",
    "        value = EXCLUDED.value;\n",
    "    \"\"\")\n",
    "    with engine.connect() as conn:\n",
    "        #  Parameter als Dictionary zu übergeben\n",
    "        conn.execute(sql, {'timestamp': timestamp, 'sensor_id': sensor_id, 'box_id': box_id, 'value': value})\n",
    "        conn.commit() "
   ]
  },
  {
   "cell_type": "code",
   "execution_count": 5,
   "id": "7dd84174-7ba8-4411-b95f-86f2bea25494",
   "metadata": {},
   "outputs": [],
   "source": [
    "def save_forecast_to_db(forecast, sensor_id, box_id):\n",
    "    for timestamp, value in forecast.items():\n",
    "        upsert_prediction(timestamp, sensor_id, box_id, value)"
   ]
  },
  {
   "cell_type": "code",
   "execution_count": 6,
   "id": "f0b17e5a-4ce7-428c-b072-678623bdc083",
   "metadata": {},
   "outputs": [
    {
     "name": "stdout",
     "output_type": "stream",
     "text": [
      "from-date: (2024-06-29T11:00:00Z)\n",
      "to_date: (2024-06-29T19:15:05.162381Z)\n"
     ]
    }
   ],
   "source": [
    "def fetch_newest_data(box_id, sensor_id, last_date):\n",
    "    url = f\"https://api.opensensemap.org/boxes/{box_id}/data/{sensor_id}\"\n",
    "    params = {\n",
    "        'from-date': (last_date).isoformat('T')+'Z',\n",
    "        'to-date': pd.Timestamp.now().isoformat('T')+'Z',\n",
    "        'format': 'json'\n",
    "    }\n",
    "    response = requests.get(url, params=params)\n",
    "    if response.status_code == 200:\n",
    "        data = response.json()\n",
    "        return data\n",
    "    else:\n",
    "        print(f\"Error: {response.status_code}\")\n",
    "        return []\n",
    "\n",
    "# Box ID und Sensor_ID\n",
    "box_id = \"5984c712e3b1fa0010691509\"\n",
    "sensor_id = \"5984c712e3b1fa001069150d\"\n",
    "\n",
    "#Zeitstempel der ersten Vorhersage(steps=2 weil sonst die stunden verloren gehen)\n",
    "predictions = loaded_model.forecast(steps=2)\n",
    "# Ziehen des letzten Indexes\n",
    "last_entry = predictions.index[0]\n",
    "\n",
    "print(f\"from-date: ({last_entry.isoformat('T')+'Z'})\")\n",
    "print(f\"to_date: ({pd.Timestamp.now().isoformat('T')+'Z'})\")\n",
    "data = fetch_newest_data(box_id, sensor_id, last_entry)\n",
    "df = pd.DataFrame(data)\n"
   ]
  },
  {
   "cell_type": "code",
   "execution_count": null,
   "id": "06de2771-0130-480e-ac72-b0419191f0a3",
   "metadata": {},
   "outputs": [],
   "source": [
    "while True:\n",
    "    #Model extenden bevor wir vorhersagen machen\n",
    "    predictions = loaded_model.forecast(steps=2)\n",
    "    # Ziehen des letzten Indexes\n",
    "    last_entry = predictions.index[0]\n",
    "    data = fetch_newest_data(box_id, sensor_id, last_entry)\n",
    "    df = pd.DataFrame(data)\n",
    "    if not df.empty:\n",
    "        # Konvertierung des Timestamps in ein Pandas Datetime-Format\n",
    "        df['createdAt'] = pd.to_datetime(df['createdAt'])\n",
    "        df['value'] = pd.to_numeric(df['value'])\n",
    "        # Setzen von 'timestamp' als Index der DataFrame\n",
    "        df.set_index('createdAt', inplace=True)\n",
    "        resampled_df_karl_marx_str_pm10 = df['value'].resample('h').mean()\n",
    "        resampled_df_karl_marx_str_pm10.index.freq = 'h'\n",
    "        # ZeitZone entfernen, damit das Modell es annehmen kann.\n",
    "        resampled_df_karl_marx_str_pm10.index = resampled_df_karl_marx_str_pm10.index.tz_localize(None)\n",
    "        # Modell erweitern\n",
    "        model_extended = loaded_model.extend(resampled_df_karl_marx_str_pm10)\n",
    "    \n",
    "    # Vorhersagen für die nächsten vier Stunden machen und speichern\n",
    "    forecast = model_extended.forecast(steps=24)\n",
    "    \n",
    "    box_id = \"5984c712e3b1fa0010691509\"\n",
    "    sensor_id = '5984c712e3b1fa001069150d'  \n",
    "    save_forecast_to_db(forecast, sensor_id, box_id)\n",
    "    time.sleep(3600)  # In einer Stunde nächste Vorhersage"
   ]
  },
  {
   "cell_type": "code",
   "execution_count": null,
   "id": "573d4df8-30de-4092-9f69-fae401b9ef29",
   "metadata": {},
   "outputs": [],
   "source": [
    "model_filename = 'karl_marx_arima_312_model.pkl'\n",
    "with open(model_filename, 'wb') as file:\n",
    "    pickle.dump(model_extended, file)\n",
    "\n",
    "model_filename"
   ]
  }
 ],
 "metadata": {
  "kernelspec": {
   "display_name": "Python 3 (ipykernel)",
   "language": "python",
   "name": "python3"
  },
  "language_info": {
   "codemirror_mode": {
    "name": "ipython",
    "version": 3
   },
   "file_extension": ".py",
   "mimetype": "text/x-python",
   "name": "python",
   "nbconvert_exporter": "python",
   "pygments_lexer": "ipython3",
   "version": "3.11.9"
  }
 },
 "nbformat": 4,
 "nbformat_minor": 5
}
