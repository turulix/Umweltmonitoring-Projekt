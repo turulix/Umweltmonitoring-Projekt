{
 "cells": [
  {
   "cell_type": "markdown",
   "id": "3ddb9d16-4320-4248-98f0-8e3e727b84f7",
   "metadata": {},
   "source": [
    "# Dashboard\n",
    "Erst den lokalen postgreSQL-Server starten in pgAdmin4 oder auf der Konsole.\n",
    "#TODOs: \n",
    "Nicht immer alle Daten laden.\n",
    "Graph mit Vorhersage.\n",
    "Evtl eine Art Overview mit Durchschnitt über alle Senseboxen.\n",
    "Karte mit den Orten der Senseboxen."
   ]
  },
  {
   "cell_type": "code",
   "execution_count": 1,
   "id": "9c659f92-c403-4675-9034-f42bc2bbaf16",
   "metadata": {},
   "outputs": [],
   "source": [
    "import dash\n",
    "from dash import html, dcc, callback, Input, Output\n",
    "import plotly.express as px\n",
    "import pandas as pd\n",
    "from sqlalchemy import create_engine\n",
    "from os import getenv\n",
    "%load_ext dotenv\n",
    "%dotenv"
   ]
  },
  {
   "cell_type": "code",
   "execution_count": 2,
   "id": "ddad862a-7e00-4282-b287-cb07d6204c7b",
   "metadata": {},
   "outputs": [],
   "source": [
    "username = getenv('DB_USER')\n",
    "password = getenv('DB_PASSWORD')\n",
    "host = getenv('DB_HOST')\n",
    "port = getenv('DB_PORT')\n",
    "database = getenv('DB_NAME')"
   ]
  },
  {
   "cell_type": "code",
   "execution_count": 3,
   "id": "8ffc277c-9ffa-4aba-b3ed-4c62e00dcca7",
   "metadata": {},
   "outputs": [],
   "source": [
    "#Lokaler postgreSQL Server\n",
    "engine = create_engine(f'postgresql://{username}:{password}@{host}:{port}/{database}')"
   ]
  },
  {
   "cell_type": "code",
   "execution_count": 4,
   "id": "8b6fbab7-120d-4949-8935-42b5dde6c079",
   "metadata": {},
   "outputs": [],
   "source": [
    "# Dash App initialisieren\n",
    "app = dash.Dash(__name__)"
   ]
  },
  {
   "cell_type": "code",
   "execution_count": 5,
   "id": "6f813429-7c39-4b9c-8353-a45ee91456d5",
   "metadata": {},
   "outputs": [],
   "source": [
    "# Dash Layout\n",
    "app.layout = html.Div([\n",
    "    html.H1(\"Umwelt-Dashboard\"),\n",
    "    dcc.Dropdown(\n",
    "        id='box-select',\n",
    "        options=[\n",
    "            {'label': 'Leipziger Straße', 'value': '65e8d93acbf5700007f920ca'},\n",
    "            {'label': 'Osloer Straße', 'value': '5a8c3d36bc2d4100190c49fb'},\n",
    "            {'label': 'Frankfurter Allee/Proskauer Straße', 'value': '5d9ef41e25683a001ad916c3'},\n",
    "            {'label': 'Karl-Marx-Straße', 'value': '5984c712e3b1fa0010691509'}\n",
    "        ],\n",
    "        value='65e8d93acbf5700007f920ca',\n",
    "        clearable=False,\n",
    "        style={'witdh': '100%'}\n",
    "    ),\n",
    "    html.Div([\n",
    "        html.Div(id='pm10-time-series-container', children=[dcc.Graph(id='pm10-time-series')], style={'flex': '50%'}),\n",
    "        html.Div(id='pm25-time-series-container', children=[dcc.Graph(id='pm25-time-series')], style={'flex': '50%'})\n",
    "    ], style={'display': 'flex'}),\n",
    "    html.Div([\n",
    "        html.Div(id='temperature-time-series-container', children=[dcc.Graph(id='temperature-time-series')], style={'flex': '50%'}),\n",
    "        html.Div(id='humidity-time-series-container', children=[dcc.Graph(id='humidity-time-series')], style={'flex': '50%'})\n",
    "    ], style={'display': 'flex'})\n",
    "])"
   ]
  },
  {
   "cell_type": "code",
   "execution_count": 6,
   "id": "83650034-20d5-4554-80ce-3ab343a233c8",
   "metadata": {},
   "outputs": [],
   "source": [
    "#Graphen erstellen\n",
    "@app.callback(\n",
    "    [Output('pm10-time-series', 'figure'),\n",
    "     Output('pm25-time-series', 'figure'),\n",
    "     Output('temperature-time-series', 'figure'),\n",
    "     Output('humidity-time-series', 'figure'),\n",
    "     Output('pm10-time-series-container', 'style'),\n",
    "     Output('pm25-time-series-container', 'style'),\n",
    "     Output('temperature-time-series-container', 'style'),\n",
    "     Output('humidity-time-series-container', 'style')],\n",
    "    [Input('box-select', 'value')]\n",
    ")\n",
    "def update_graphs(selected_box_id):\n",
    "    styles = {}\n",
    "    figures = {}\n",
    "    queries = {\n",
    "        'PM10': \"SELECT timestamp, value, unit FROM sensebox_measurements WHERE sensor_type = 'PM10' AND box_id = '{}'\",\n",
    "        'PM2.5': \"SELECT timestamp, value, unit FROM sensebox_measurements WHERE sensor_type = 'PM2.5' AND box_id = '{}'\",\n",
    "        'Temperatur': \"SELECT timestamp, value, unit FROM sensebox_measurements WHERE sensor_type = 'Temperatur' AND box_id = '{}'\",\n",
    "        'Luftfeuchtigkeit': \"SELECT timestamp, value, unit FROM sensebox_measurements WHERE sensor_type = 'rel. Luftfeuchte' AND box_id = '{}'\"\n",
    "    }\n",
    "    for sensor, query in queries.items():\n",
    "        df = pd.read_sql(query.format(selected_box_id), con=engine)\n",
    "        if not df.empty and df['value'].notna().all():\n",
    "            # Nutze die erste Einheit aus den Ergebnissen für den Titel\n",
    "            unit = df['unit'].iloc[0] if not df['unit'].empty else \"\"\n",
    "            title = f'{sensor} Zeitreihe ({unit})'  # Füge die Einheit zum Titel hinzu\n",
    "            figures[sensor] = px.line(df, x='timestamp', y='value', title=title, labels={'timestamp': 'Zeit', 'value': unit})\n",
    "            styles[sensor] = {'display': 'block'}  # Sichtbar machen\n",
    "        else:\n",
    "            figures[sensor] = {}\n",
    "            styles[sensor] = {'display': 'none'}  # Unsichtbar machen\n",
    "\n",
    "    return (\n",
    "        figures.get('PM10', {}),\n",
    "        figures.get('PM2.5', {}),\n",
    "        figures.get('Temperatur', {}),\n",
    "        figures.get('Luftfeuchtigkeit', {}),\n",
    "        styles.get('PM10', {'display': 'none'}),\n",
    "        styles.get('PM2.5', {'display': 'none'}),\n",
    "        styles.get('Temperatur', {'display': 'none'}),\n",
    "        styles.get('Luftfeuchtigkeit', {'display': 'none'})\n",
    "    )"
   ]
  },
  {
   "cell_type": "code",
   "execution_count": 7,
   "id": "9b1b3733-860d-4b1f-8387-9de2e799becd",
   "metadata": {},
   "outputs": [
    {
     "data": {
      "text/html": [
       "\n",
       "        <iframe\n",
       "            width=\"100%\"\n",
       "            height=\"650\"\n",
       "            src=\"http://127.0.0.1:8050/\"\n",
       "            frameborder=\"0\"\n",
       "            allowfullscreen\n",
       "            \n",
       "        ></iframe>\n",
       "        "
      ],
      "text/plain": [
       "<IPython.lib.display.IFrame at 0x1afd103e710>"
      ]
     },
     "metadata": {},
     "output_type": "display_data"
    }
   ],
   "source": [
    "# Die App ausführen\n",
    "if __name__ == '__main__':\n",
    "    app.run_server(debug=True)"
   ]
  },
  {
   "cell_type": "code",
   "execution_count": null,
   "id": "2dad5ba3-5763-4e99-b4e2-15f56cdf0064",
   "metadata": {},
   "outputs": [],
   "source": []
  },
  {
   "cell_type": "code",
   "execution_count": null,
   "id": "33398fee-76be-4b59-a98f-a3b17a1cad8e",
   "metadata": {},
   "outputs": [],
   "source": []
  }
 ],
 "metadata": {
  "kernelspec": {
   "display_name": "Python 3 (ipykernel)",
   "language": "python",
   "name": "python3"
  },
  "language_info": {
   "codemirror_mode": {
    "name": "ipython",
    "version": 3
   },
   "file_extension": ".py",
   "mimetype": "text/x-python",
   "name": "python",
   "nbconvert_exporter": "python",
   "pygments_lexer": "ipython3",
   "version": "3.11.9"
  }
 },
 "nbformat": 4,
 "nbformat_minor": 5
}
